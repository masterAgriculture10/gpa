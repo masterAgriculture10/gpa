{
 "cells": [
  {
   "cell_type": "code",
   "execution_count": null,
   "metadata": {},
   "outputs": [],
   "source": [
    "\"\"\"\n",
    "Author: Shanika N. Person\n",
    "Last Date Updated: 6/23/2022\n",
    "Version: Jupyter_Python3_ipykernel\n",
    "Summary: Write a Python app that will accept student names and GPAs and \n",
    "test if the student qualifies for either the Dean's List or the Honor Roll. \n",
    "Your app will:\n",
    "ask for and accept a student's last name.\n",
    "quit processing student records if the last name entered is 'ZZZ'.\n",
    "ask for and accept a student's first name.\n",
    "ask for and accept the student's GPA as a float.\n",
    "test if the student's GPA is 3.5 or greater and, if so, \n",
    "print a message saying that the student has made the Dean's List.\n",
    "test if the student's GPA is 3.25 or greater and, if so, \n",
    "print a message saying that the studnet has made the Honor Roll.\n",
    "Test your app using at least five students.\n",
    "\"\"\"\n",
    "\n",
    "\n",
    "\n",
    "lastName = input(\"Enter your last name\")\n",
    "quit = 'ZZZ'\n",
    "firstName = input(\"Enter your first name\")\n",
    "grade = float(input(\"Enter your grade point average\"))\n",
    "\n",
    "if grade >= 3.5:\n",
    "    print(\"Congratulations scholar to the Dean's List\")\n",
    "elif grade >= 3.25:\n",
    "    print(\"Congratulation scholar to the Honor Roll\")\n"
   ]
  }
 ],
 "metadata": {
  "language_info": {
   "name": "python"
  },
  "orig_nbformat": 4
 },
 "nbformat": 4,
 "nbformat_minor": 2
}
